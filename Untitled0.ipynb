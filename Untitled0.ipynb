{
  "nbformat": 4,
  "nbformat_minor": 0,
  "metadata": {
    "colab": {
      "provenance": [],
      "authorship_tag": "ABX9TyOka0J0htIM7SH6z2s0YJFy",
      "include_colab_link": true
    },
    "kernelspec": {
      "name": "python3",
      "display_name": "Python 3"
    },
    "language_info": {
      "name": "python"
    }
  },
  "cells": [
    {
      "cell_type": "markdown",
      "metadata": {
        "id": "view-in-github",
        "colab_type": "text"
      },
      "source": [
        "<a href=\"https://colab.research.google.com/github/nawadkar/Coursera-Course-Recommendation-System/blob/main/Untitled0.ipynb\" target=\"_parent\"><img src=\"https://colab.research.google.com/assets/colab-badge.svg\" alt=\"Open In Colab\"/></a>"
      ]
    },
    {
      "cell_type": "code",
      "source": [
        "!pip install git+https://github.com/Fluid-AI/fluidmcp.git"
      ],
      "metadata": {
        "id": "DYrkQHjzdIkc"
      },
      "execution_count": null,
      "outputs": []
    },
    {
      "cell_type": "code",
      "source": [
        "!fmcp install \"Google Maps MCP Server/google-maps@0.6.2\""
      ],
      "metadata": {
        "colab": {
          "base_uri": "https://localhost:8080/",
          "height": 0
        },
        "id": "z2pvMkPVd2Og",
        "outputId": "727e858e-a274-4b26-f6ec-1b54c7169ce4"
      },
      "execution_count": 12,
      "outputs": [
        {
          "output_type": "stream",
          "name": "stdout",
          "text": [
            ":wrench: Installing Google Maps MCP Server/google-maps@0.6.2\n",
            ":cloud: Installing package from Fluid MCP registry...\n",
            ":cloud: Downloading packages\n",
            ":package: Saving metadata.json...\n",
            ":information_source: Reading metadata.json for API key configuration \n",
            ":key: Saving API key(s) to metadata.json\n",
            ":information_source: API key(s) saved to metadata.json.\n",
            ":white_check_mark: Installation completed successfully.\n"
          ]
        }
      ]
    },
    {
      "cell_type": "code",
      "source": [
        "!fmcp list"
      ],
      "metadata": {
        "colab": {
          "base_uri": "https://localhost:8080/",
          "height": 0
        },
        "id": "tM5pV1HTexds",
        "outputId": "873626ec-3f25-4683-a274-3bec887fd420"
      },
      "execution_count": 13,
      "outputs": [
        {
          "output_type": "stream",
          "name": "stdout",
          "text": [
            "Installation directory: /content/.fmcp-packages\n",
            "Google Maps MCP Server/google-maps@0.6.2\n"
          ]
        }
      ]
    },
    {
      "cell_type": "code",
      "source": [
        "!fmcp run all"
      ],
      "metadata": {
        "colab": {
          "base_uri": "https://localhost:8080/",
          "height": 0
        },
        "id": "NRP9dFNzfl2_",
        "outputId": "48fc5704-72af-4bfd-ca85-b132773c15b0"
      },
      "execution_count": null,
      "outputs": [
        {
          "output_type": "stream",
          "name": "stdout",
          "text": [
            "✅ Wrote merged metadata to /content/.fmcp-packages/metadata_all.json\n",
            ":blue_book: Reading metadata.json from /content/.fmcp-packages/Google Maps MCP Server/google-maps/0.6.2/metadata.json\n",
            "google-maps {'command': 'npx', 'args': ['-y', '@modelcontextprotocol/server-google-maps'], 'env': {'GOOGLE_MAPS_API_KEY': '<YOUR_API_KEY>'}}\n",
            "✅ Added google-maps endpoints\n",
            "\u001b[32m2025-06-06 09:19:04.284\u001b[0m | \u001b[1mINFO    \u001b[0m | \u001b[36mfluidai_mcp.cli\u001b[0m:\u001b[36mrun_all\u001b[0m:\u001b[36m279\u001b[0m - \u001b[1mStarting FastAPI client server on port 8099\u001b[0m\n",
            "\u001b[32mINFO\u001b[0m:     Started server process [\u001b[36m6848\u001b[0m]\n",
            "\u001b[32mINFO\u001b[0m:     Waiting for application startup.\n",
            "\u001b[32mINFO\u001b[0m:     Application startup complete.\n",
            "\u001b[32mINFO\u001b[0m:     Uvicorn running on \u001b[1mhttp://0.0.0.0:8099\u001b[0m (Press CTRL+C to quit)\n"
          ]
        }
      ]
    }
  ]
}